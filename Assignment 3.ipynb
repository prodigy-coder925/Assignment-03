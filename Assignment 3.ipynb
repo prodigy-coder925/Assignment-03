{
 "cells": [
  {
   "cell_type": "markdown",
   "metadata": {},
   "source": [
    "# ASSIGNMENT # 3 "
   ]
  },
  {
   "cell_type": "markdown",
   "metadata": {},
   "source": [
    "# NAME : MUNEEB UR REHMAN"
   ]
  },
  {
   "cell_type": "markdown",
   "metadata": {},
   "source": [
    "## Question 1 "
   ]
  },
  {
   "cell_type": "code",
   "execution_count": 3,
   "metadata": {},
   "outputs": [
    {
     "name": "stdout",
     "output_type": "stream",
     "text": [
      "Twinkle, twinkle, little star,\n",
      "\tHow I wonder what you are!\n",
      "\t\tUp above the world so high,\n",
      "\t\tLike a diamond in the sky.\n",
      "Twinkle, twinkle, little star,\n",
      "\tHow I wonder what you are\n"
     ]
    }
   ],
   "source": [
    "print('Twinkle, twinkle, little star,\\n\\tHow I wonder what you are!\\n\\t\\tUp above the world so high,\\n\\t\\tLike a diamond in the sky.\\nTwinkle, twinkle, little star,\\n\\tHow I wonder what you are')"
   ]
  },
  {
   "cell_type": "markdown",
   "metadata": {},
   "source": [
    "## Question 2 "
   ]
  },
  {
   "cell_type": "code",
   "execution_count": 1,
   "metadata": {},
   "outputs": [
    {
     "name": "stdout",
     "output_type": "stream",
     "text": [
      "3.9.6\n"
     ]
    }
   ],
   "source": [
    "from platform import python_version\n",
    "\n",
    "print(python_version())"
   ]
  },
  {
   "cell_type": "markdown",
   "metadata": {},
   "source": [
    "## Question 3 "
   ]
  },
  {
   "cell_type": "code",
   "execution_count": 18,
   "metadata": {},
   "outputs": [
    {
     "name": "stdout",
     "output_type": "stream",
     "text": [
      "Today's date is: 2021-10-24\n",
      "Current time is 13:09:30.806504\n"
     ]
    }
   ],
   "source": [
    "import datetime\n",
    "today = datetime.date.today()\n",
    "print(f\"Today's date is: {today}\")\n",
    "currentTime = datetime.datetime.now().time()\n",
    "print(f\"Current time is {currentTime}\")"
   ]
  },
  {
   "cell_type": "markdown",
   "metadata": {},
   "source": [
    "## Question 4 "
   ]
  },
  {
   "cell_type": "code",
   "execution_count": 33,
   "metadata": {},
   "outputs": [],
   "source": [
    "pi = 22/7\n",
    "radius = int(input(\"Enter circle radius: \"))\n",
    "area = pi * radius **2\n",
    "print(f\"Area of the circle of radius {radius} is = {area} \")"
   ]
  },
  {
   "cell_type": "markdown",
   "metadata": {},
   "source": [
    "## Question 5"
   ]
  },
  {
   "cell_type": "code",
   "execution_count": 35,
   "metadata": {},
   "outputs": [],
   "source": [
    "first = input(\"Enter first name: \")\n",
    "last = input(\"Enter last name: \")\n",
    "print(last + \" \" + first)"
   ]
  },
  {
   "cell_type": "markdown",
   "metadata": {},
   "source": [
    "## Question 6"
   ]
  },
  {
   "cell_type": "code",
   "execution_count": null,
   "metadata": {},
   "outputs": [],
   "source": [
    "n1 = input(\"enter number 1 :\")\n",
    "n2 = input(\"enter number 2 :\")\n",
    "print(int(n1) + int(n2))"
   ]
  },
  {
   "cell_type": "markdown",
   "metadata": {},
   "source": [
    "## Question 7"
   ]
  },
  {
   "cell_type": "code",
   "execution_count": null,
   "metadata": {},
   "outputs": [],
   "source": [
    "#input marks out of 100\n",
    "isl = int(input(\"Enter Islamiat marks : \"))\n",
    "eng = int(input(\"Enter English marks : \"))\n",
    "mat = int(input(\"Enter Maths marks : \"))\n",
    "urd = int(input(\"Enter Urdu marks : \"))\n",
    "sci = int(input(\"Enter Science marks : \"))\n",
    "max_marks = 500\n",
    "marks_obtained = isl + eng + mat + urd + sci\n",
    "percentage = marks_obtained / max_marks * 100\n",
    "grade = ''\n",
    "if percentage < 100 and percentage >= 80:\n",
    "    grade = 'A+'\n",
    "elif percentage < 80 and percentage >= 70:\n",
    "    grade = 'A'\n",
    "elif percentage < 70 and percentage >= 60:\n",
    "    grade = 'B'\n",
    "elif percentage < 60 and percentage >= 50:\n",
    "    grade = 'C'\n",
    "elif percentage < 50 and percentage >= 40:\n",
    "    grade = 'D'\n",
    "elif percentage < 40:\n",
    "    grade = 'Fail'\n",
    "print('Subjects\\tMarks')\n",
    "print(f\"Islamiat \\t{isl}\")\n",
    "print(f\"English \\t{eng}\")\n",
    "print(f\"Maths \\t{mat}\")\n",
    "print(f\"Urdu \\t{urd}\")\n",
    "print(f\"Science \\t{sci}\")\n",
    "print(f\"\\nMarks obtained: {marks_obtained}\\tPercentage: {percentage}%\\tGrade: {grade} \")\n"
   ]
  },
  {
   "cell_type": "markdown",
   "metadata": {},
   "source": [
    "## Question 8"
   ]
  },
  {
   "cell_type": "code",
   "execution_count": null,
   "metadata": {},
   "outputs": [],
   "source": [
    "n = int(input(\"enter number: \"))\n",
    "if n%2 ==0:\n",
    "    print(\"you entered an even number\")\n",
    "else:\n",
    "    print(\"you entered odd number\")\n"
   ]
  },
  {
   "cell_type": "markdown",
   "metadata": {},
   "source": [
    "## QUestion 9"
   ]
  },
  {
   "cell_type": "code",
   "execution_count": 36,
   "metadata": {},
   "outputs": [
    {
     "name": "stdout",
     "output_type": "stream",
     "text": [
      "15\n"
     ]
    }
   ],
   "source": [
    "l1 = [1,2,3,4,5,6,7,8,754,54634,5432,4231,24,234,12]\n",
    "print(len(l1))"
   ]
  },
  {
   "cell_type": "markdown",
   "metadata": {},
   "source": [
    "## Question 10"
   ]
  },
  {
   "cell_type": "code",
   "execution_count": 37,
   "metadata": {},
   "outputs": [
    {
     "name": "stdout",
     "output_type": "stream",
     "text": [
      "65357\n"
     ]
    }
   ],
   "source": [
    "li = [1,2,3,4,5,6,7,8,754,54634,5432,4231,24,234,12]\n",
    "print(sum(li))"
   ]
  },
  {
   "cell_type": "markdown",
   "metadata": {},
   "source": [
    "## Question 11"
   ]
  },
  {
   "cell_type": "code",
   "execution_count": 38,
   "metadata": {},
   "outputs": [
    {
     "name": "stdout",
     "output_type": "stream",
     "text": [
      "54634\n"
     ]
    }
   ],
   "source": [
    "li = [1,2,3,4,5,6,7,8,754,54634,5432,4231,24,234,12]\n",
    "print(max(li))"
   ]
  },
  {
   "cell_type": "markdown",
   "metadata": {},
   "source": [
    "## Question 12"
   ]
  },
  {
   "cell_type": "code",
   "execution_count": 39,
   "metadata": {},
   "outputs": [
    {
     "name": "stdout",
     "output_type": "stream",
     "text": [
      "1\n",
      "1\n",
      "2\n",
      "3\n"
     ]
    }
   ],
   "source": [
    "a = [1, 1, 2, 3, 5, 8, 13, 21, 34, 55, 89]\n",
    "for i in a:\n",
    "    if i < 5:\n",
    "        print(i)"
   ]
  }
 ],
 "metadata": {
  "interpreter": {
   "hash": "8fdec81105d70591aa132cebc822505eff26d66e6ca239a318fe726eb0e72bd0"
  },
  "kernelspec": {
   "display_name": "Python 3.9.6 64-bit",
   "name": "python3"
  },
  "language_info": {
   "codemirror_mode": {
    "name": "ipython",
    "version": 3
   },
   "file_extension": ".py",
   "mimetype": "text/x-python",
   "name": "python",
   "nbconvert_exporter": "python",
   "pygments_lexer": "ipython3",
   "version": "3.9.6"
  }
 },
 "nbformat": 4,
 "nbformat_minor": 2
}
